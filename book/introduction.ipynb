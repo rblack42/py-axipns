{
 "cells": [
  {
   "cell_type": "markdown",
   "id": "e21b1c1b-7d0f-4521-9b16-288fbec6e691",
   "metadata": {},
   "source": [
    "# A Short History of CFD and High Performance Computing"
   ]
  },
  {
   "cell_type": "markdown",
   "id": "705e84e3-38cf-424e-98d0-57bc8eb94007",
   "metadata": {},
   "source": [
    "## Why are you here?\n",
    "\n",
    "Hopefully, like me, you are fascinated by flight and want to understand what makes it possible. That idea has been a part of human history for as long as people watched bird-like critters navigate the sky. How in the world do they do that? We might have been fascinated by flying insects, but we usually just want to swat those things!\n",
    "\n",
    "I grew up in the Washington, D.C. area, and at about age three, I was introduced to the Smithsonian Institute. I was born a couple of years before Dr. Paul Garber, Curator Emeritus of the Air and Space Museum, brought the *Wright Flyer* back from England to be displayed there. Right behind that machine, the *Spirit of St. Louis* also hung. \n",
    "\n",
    "My tour guide back then was Andy Tarapchak, my childhood next-door neighbor and a B-26 pilot who flew over 70 missions over France and Germany during WWII! I suspect those visits lit the spark that started me on my own quest to figure out flight.\n",
    "\n",
    "When the idea of flying struck humans, the best thing they could think to do was build a machine and jump off a cliff! Not very smart, but what else could you do? Perhaps just make the cliff short!\n",
    "\n",
    "Eventually, it occurred to them that models of potential machines might save them some broken bones.\n",
    "\n",
    "<div> <img src=\"images/lpp.gif\" alt=\"Indoor Model Airplane\" style=\"width: 600px;\"/></div>\n",
    "\n",
    "Most of you have never seen anything like this. This is my design for an indoor model airplane, specifically one that must not weight more than one U.S. Penny! It is powered by a rubber band and has the potential to fly in a large audotorium for around 10 minutes. It cruises at a staggering 4 miles per hour!\n",
    "\n",
    "Figuring out how to build and fly machines like this was how I began my journey to become an Aerospace Engineer. \n",
    "\n",
    "Building real airplanes used to involve build sophisticated models, usuall made of metal and mounting them in a *Wind Tunner\" that looked something like this:\n",
    "\n",
    "<div> <img src=\"images/yf-12-wind-tunnel.png\" alt=\"Wind Tunnel\" style=\"width: 400px;\"/></div>\n",
    "\n",
    "Obviously, building models like this one is a very expensive operation, and you really want to be sure the design is sound before committing to this!\n",
    "\n",
    "Wind tunnels have one big advantage, though. They use real air and blast it past the model at very high speeds giving us a very good way to figure out how the \"real\" airplane will fly. \n",
    "\n",
    "That is if we can figure out how to measure things. If you look closely, there are many probes mounted on this model in front of the left engine nacelle. These will be used measure some of the properties of the air moving by the model. This \"experimental\" data is vital in our work, especially when we try to develop new methods for predicting how a design will fly!\n"
   ]
  },
  {
   "cell_type": "markdown",
   "id": "ae1c37e8-e914-499e-b980-6cb9c91412ef",
   "metadata": {},
   "source": [
    "## The Numerical Wind Tunnel\n",
    "\n",
    "Wouldn't it be nice to do away with all that model machining and take a design straight off of paper and plug it into some kind of computerized model and get the same data much more easily. SHoot, we could vary model parameters, ans use our \"Numerical WInd Tunnel\" to refine the design without ever touching anything metal!\n",
    "\n",
    "That was our goal back in the 1970s when I was assigned as a research scientist at the Aerospace Research Laboratory at Wright-Patterson Air Force Base in Dayton, Ohio - home of the Wight Brothers who actuall flew off of a field that is now part of the base. (I even learned t fly over that same field - cool!)\n",
    "\n",
    "That idea has been the \"Holy Grail\" of Aeronautical Engineering for as long as computers became powerfull enough to make that idea seem practical!\n",
    "\n",
    "But it took a long time to get computers to that point. Let's take a quick look at how computers developed, and how \"Computational Fluid Dynamics\" really got started."
   ]
  },
  {
   "cell_type": "markdown",
   "id": "abe35e7a-7715-4edb-90c1-66edf69fc837",
   "metadata": {},
   "source": [
    "## Basics of Computers\n",
    "\n",
    "I used to start off my classes on computer architecture with this simple statement:\n",
    "\n",
    "```{quote}\n",
    "Computers are stupid! They are just stupid so fast, they look smart!\n",
    "```\n",
    "\n",
    "We have been working on building machines that could do simple math for a lon time. One of the earlest such machines looked like this:\n",
    "\n",
    "I bought my Abacus in Tianjin while on an ACM sponsored trip to China in 1995. Such machines have been in use there since around 200 B.C! Watching a merchant flip those neads was an amazing experience! \n",
    "\n",
    "However ising the machine required a lot of practice to get very fast. Around 1554, an Artist known as Leonardo sketched something we suspect is a calculating machine.\n",
    "\n",
    "Engineers at IBM tried to build a machine that looke like this design:\n",
    "\n",
    "In 17xx, Blaise pascal, a well known scientist and mathematician designed a machine called the \"Pascaline\" so his father would work on taxes - Ugh!. In more modern times, t version of this machine made its way into the home where it was used to figure out the bill for groceries. My mother had one much like this one!\n",
    "\n",
    "These machies could only do simple math. Certainly that was an advance, but \"We need more power!\"\n",
    "\n",
    "Charles Babbage thought up a machine that could do complex calculations automatically. The Babbage Engine was never constructed successfully in Babbage's time, the construction techniques of the day were not up to the challenge. Hoeever, engineers did build one in 19xx to prove it would have worked.\n",
    "\n",
    "An interestinf note anot ths i history of this machine is this:\n",
    "\n",
    "The poet Lord Byron had a daughter who was fascinated by Babbage's machine and managed to work with him for a time. In fact this lady though up the idea of using cards from the Jacard Loom. a recent invention tsking the textime industry by storm at the time. Tha lady, Aada Agusta Lovelace, is therefore credited with inventing the idea of a \"programmable calculating machine\". I worked on tha Department of Defense project to build a new programming langiage named in her honoer. Ada was to be apowerful language, but it never caught on. Another upstart language that came out about the same time swept it away: C++ - ever heard of that one?\n",
    "\n",
    "In the quest to buld simple calculating machines, a prisoner in a Nazi concentration camp named Curta designed a machine he was allowed to work on in his camp. The Curta Calculator could add, sibtract multiply and divide and produced 11 digits of accuracy. I bought mine while studying Aerospace Engineering at Virginia Tech when my evil professors asked for more accuracy than I could get from my trusty side rule. It cost $250 in 1966, but is worth several thousand dollars today!\n",
    "\n",
    "\n",
    "\n",
    "\n",
    "Since John Von Neumann published a paper in 1945 laying out the basic structure of a \"stored program\" computer, all machines have basically looked like this:\n",
    "\n"
   ]
  },
  {
   "cell_type": "code",
   "execution_count": 3,
   "id": "39fa73fe-d08f-46a3-9321-d22f106785f6",
   "metadata": {},
   "outputs": [],
   "source": [
    "## More Cores"
   ]
  },
  {
   "cell_type": "code",
   "execution_count": 4,
   "id": "ac1c8da1-e569-4944-b795-9b51e9ee7af2",
   "metadata": {},
   "outputs": [],
   "source": [
    "## Interconnecting Machines"
   ]
  },
  {
   "cell_type": "code",
   "execution_count": 5,
   "id": "e149c018-34c2-4237-a0dd-0b1b372774a2",
   "metadata": {},
   "outputs": [],
   "source": [
    "### Clusters"
   ]
  },
  {
   "cell_type": "code",
   "execution_count": 6,
   "id": "5fd86625-7851-4ebc-8669-6c127b933fae",
   "metadata": {},
   "outputs": [],
   "source": [
    "### Massively Parallel"
   ]
  },
  {
   "cell_type": "code",
   "execution_count": 7,
   "id": "e557d619-553d-43c6-ab3d-48871783b551",
   "metadata": {},
   "outputs": [],
   "source": [
    "## Future Systems"
   ]
  },
  {
   "cell_type": "code",
   "execution_count": 8,
   "id": "d60b1e7a-c70c-496e-adc0-71e06f0bd99e",
   "metadata": {},
   "outputs": [],
   "source": [
    "### 175,000 Copies of Linux?"
   ]
  },
  {
   "cell_type": "code",
   "execution_count": 9,
   "id": "380b6336-a793-4b88-81bc-67ee50b85feb",
   "metadata": {},
   "outputs": [],
   "source": [
    "### Field Programmable Gate Arrays"
   ]
  },
  {
   "cell_type": "code",
   "execution_count": 10,
   "id": "11e8085c-c212-4295-8eb4-3946fe58b40f",
   "metadata": {},
   "outputs": [],
   "source": [
    "### Custom Chips"
   ]
  }
 ],
 "metadata": {
  "kernelspec": {
   "display_name": "Python 3 (ipykernel)",
   "language": "python",
   "name": "python3"
  },
  "language_info": {
   "codemirror_mode": {
    "name": "ipython",
    "version": 3
   },
   "file_extension": ".py",
   "mimetype": "text/x-python",
   "name": "python",
   "nbconvert_exporter": "python",
   "pygments_lexer": "ipython3",
   "version": "3.11.2"
  }
 },
 "nbformat": 4,
 "nbformat_minor": 5
}
