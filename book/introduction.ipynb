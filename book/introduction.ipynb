{
 "cells": [
  {
   "cell_type": "markdown",
   "id": "e21b1c1b-7d0f-4521-9b16-288fbec6e691",
   "metadata": {},
   "source": [
    "# A Short History of CFD and High Performance Computing"
   ]
  },
  {
   "cell_type": "markdown",
   "id": "6072c06a-ca0d-4493-9c44-6467f4f50b91",
   "metadata": {},
   "source": [
    "## Why are you here?\n",
    "\n",
    "Hopefully, like me, you are fascinated by flight and want to understand what makes it possible. That idea has been a part of human history for as long as people watched bird-like critters navigate the sky. How in the world do they do that? We might have been fascinated by flying insects, but we usually just want to swat those things!\n",
    "\n",
    "I grew up in the Washington, D.C. area, and at about age three, I was introduced to the Smithsonian Institute. I was born a couple of years before Dr. Paul Garber, Curator Emeritus of the Air and Space Museum, brought the *Wright Flyer* back from England to be displayed there. Right behind that machine, the *Spirit of St. Louis* also hung. \n",
    "\n",
    "My tour guide back then was Andy Tarapchak, my childhood next-door neighbor and a B-26 pilot who flew over 70 missions over France and Germany during WWII! I suspect those visits lit the spark that started me on my own quest to figure out flight.\n",
    "\n",
    "When the idea of flying struck humans, the best thing they could think to do was build a machine and jump off a cliff! Not very smart, but what else could you do? Perhaps just make the cliff short!\n",
    "\n",
    "Eventually, it occurred to them that models of potential machines might save them some broken bones.\n",
    "\n"
   ]
  },
  {
   "cell_type": "code",
   "execution_count": null,
   "id": "47d7663e-c564-47e1-8f69-d86a419216cd",
   "metadata": {},
   "outputs": [],
   "source": [
    "## The Numerical Wind Tunnel"
   ]
  },
  {
   "cell_type": "code",
   "execution_count": 2,
   "id": "ca1b6797-050a-4f8e-a4e8-115578f9a2af",
   "metadata": {},
   "outputs": [],
   "source": [
    "## Basics of Computers"
   ]
  },
  {
   "cell_type": "code",
   "execution_count": 3,
   "id": "39fa73fe-d08f-46a3-9321-d22f106785f6",
   "metadata": {},
   "outputs": [],
   "source": [
    "## More Cores"
   ]
  },
  {
   "cell_type": "code",
   "execution_count": 4,
   "id": "ac1c8da1-e569-4944-b795-9b51e9ee7af2",
   "metadata": {},
   "outputs": [],
   "source": [
    "## Interconnecting Machines"
   ]
  },
  {
   "cell_type": "code",
   "execution_count": 5,
   "id": "e149c018-34c2-4237-a0dd-0b1b372774a2",
   "metadata": {},
   "outputs": [],
   "source": [
    "### Clusters"
   ]
  },
  {
   "cell_type": "code",
   "execution_count": 6,
   "id": "5fd86625-7851-4ebc-8669-6c127b933fae",
   "metadata": {},
   "outputs": [],
   "source": [
    "### Massively Parallel"
   ]
  },
  {
   "cell_type": "code",
   "execution_count": 7,
   "id": "e557d619-553d-43c6-ab3d-48871783b551",
   "metadata": {},
   "outputs": [],
   "source": [
    "## Future Systems"
   ]
  },
  {
   "cell_type": "code",
   "execution_count": 8,
   "id": "d60b1e7a-c70c-496e-adc0-71e06f0bd99e",
   "metadata": {},
   "outputs": [],
   "source": [
    "### 175,000 Copies of Linux?"
   ]
  },
  {
   "cell_type": "code",
   "execution_count": 9,
   "id": "380b6336-a793-4b88-81bc-67ee50b85feb",
   "metadata": {},
   "outputs": [],
   "source": [
    "### Field Programmable Gate Arrays"
   ]
  },
  {
   "cell_type": "code",
   "execution_count": 10,
   "id": "11e8085c-c212-4295-8eb4-3946fe58b40f",
   "metadata": {},
   "outputs": [],
   "source": [
    "### Custom Chips"
   ]
  }
 ],
 "metadata": {
  "kernelspec": {
   "display_name": "Python 3 (ipykernel)",
   "language": "python",
   "name": "python3"
  },
  "language_info": {
   "codemirror_mode": {
    "name": "ipython",
    "version": 3
   },
   "file_extension": ".py",
   "mimetype": "text/x-python",
   "name": "python",
   "nbconvert_exporter": "python",
   "pygments_lexer": "ipython3",
   "version": "3.11.2"
  }
 },
 "nbformat": 4,
 "nbformat_minor": 5
}
